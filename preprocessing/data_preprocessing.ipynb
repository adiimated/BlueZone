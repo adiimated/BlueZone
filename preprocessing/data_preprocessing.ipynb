{
 "cells": [
  {
   "cell_type": "markdown",
   "id": "edee7da2",
   "metadata": {},
   "source": [
    "# Data Preprocessing"
   ]
  },
  {
   "cell_type": "markdown",
   "id": "5b8aeff5",
   "metadata": {},
   "source": [
    "## Converting from txt to csv and adding column names"
   ]
  },
  {
   "cell_type": "code",
   "execution_count": 1,
   "id": "4229c954",
   "metadata": {},
   "outputs": [],
   "source": [
    "import pandas as pd"
   ]
  },
  {
   "cell_type": "code",
   "execution_count": 2,
   "id": "e36c9b81",
   "metadata": {},
   "outputs": [],
   "source": [
    "# Define the column specifications\n",
    "col_specs = [(0, 4), (4, 6), (6, 8), (8, 11), (11, 13), (13, 14), (14, 15), (15, 16), (16, 18), (18, 26)]\n",
    "col_names = [\n",
    "    'Year', 'State Abbreviation', 'State FIPS Code', 'County FIPS Code', \n",
    "    'Registry', 'Race', 'Origin', 'Sex', 'Age', 'Population'\n",
    "]"
   ]
  },
  {
   "cell_type": "code",
   "execution_count": 3,
   "id": "010778d6",
   "metadata": {},
   "outputs": [],
   "source": [
    "# Read the fixed-width file\n",
    "df = pd.read_fwf('demographic_data.txt', colspecs=col_specs, header=None, names=col_names)"
   ]
  },
  {
   "cell_type": "code",
   "execution_count": 4,
   "id": "017f4c55",
   "metadata": {},
   "outputs": [],
   "source": [
    "# Write the dataframe to a CSV file\n",
    "df.to_csv('output.csv', index=False)"
   ]
  },
  {
   "cell_type": "code",
   "execution_count": null,
   "id": "f3db9131",
   "metadata": {},
   "outputs": [],
   "source": []
  },
  {
   "cell_type": "markdown",
   "id": "20f4a2ad",
   "metadata": {},
   "source": [
    "## Separating datasets by Age and Sex"
   ]
  },
  {
   "cell_type": "code",
   "execution_count": 5,
   "id": "7e7c48db",
   "metadata": {},
   "outputs": [
    {
     "data": {
      "text/plain": [
       "(   Year State Abbreviation  State FIPS Code  County FIPS Code  Registry  Race  \\\n",
       " 0  1990                 AL                1                 1        99     1   \n",
       " 1  1990                 AL                1                 1        99     1   \n",
       " 2  1990                 AL                1                 1        99     1   \n",
       " 3  1990                 AL                1                 1        99     1   \n",
       " 4  1990                 AL                1                 1        99     1   \n",
       " \n",
       "    Origin  Sex  Age  Population  \n",
       " 0       0    1    0         239  \n",
       " 1       0    1    1         821  \n",
       " 2       0    1    2        1089  \n",
       " 3       0    1    3        1144  \n",
       " 4       0    1    4        1046  ,\n",
       " Index(['Year', 'State Abbreviation', 'State FIPS Code', 'County FIPS Code',\n",
       "        'Registry', 'Race', 'Origin', 'Sex', 'Age', 'Population'],\n",
       "       dtype='object'))"
      ]
     },
     "execution_count": 5,
     "metadata": {},
     "output_type": "execute_result"
    }
   ],
   "source": [
    "import pandas as pd\n",
    "\n",
    "# Load the uploaded CSV file to check its contents\n",
    "file_path = 'output.csv'\n",
    "data = pd.read_csv(file_path)\n",
    "\n",
    "# Display the first few rows and the column headers of the dataset\n",
    "data.head(), data.columns"
   ]
  },
  {
   "cell_type": "code",
   "execution_count": 6,
   "id": "a4bfdbed",
   "metadata": {},
   "outputs": [],
   "source": [
    "# Creating three datasets based on the requirements\n",
    "# 1. Dataset by Sex\n",
    "dataset_by_sex = data[['Year', 'State Abbreviation', 'State FIPS Code', 'County FIPS Code', 'Sex', 'Population']]\n",
    "\n",
    "# 2. Dataset by Age\n",
    "dataset_by_age = data[['Year', 'State Abbreviation', 'State FIPS Code', 'County FIPS Code', 'Age', 'Population']]"
   ]
  },
  {
   "cell_type": "code",
   "execution_count": 7,
   "id": "f5c5caf0",
   "metadata": {},
   "outputs": [
    {
     "data": {
      "text/plain": [
       "('dataset_by_sex.csv', 'dataset_by_age.csv')"
      ]
     },
     "execution_count": 7,
     "metadata": {},
     "output_type": "execute_result"
    }
   ],
   "source": [
    "# Save each dataset as a CSV file\n",
    "# Dataset by Sex\n",
    "sex_csv_path = 'dataset_by_sex.csv'\n",
    "dataset_by_sex.to_csv(sex_csv_path, index=False)\n",
    "\n",
    "# Dataset by Age\n",
    "age_csv_path = 'dataset_by_age.csv'\n",
    "dataset_by_age.to_csv(age_csv_path, index=False)\n",
    "\n",
    "# Paths to the saved files\n",
    "sex_csv_path, age_csv_path"
   ]
  },
  {
   "cell_type": "code",
   "execution_count": null,
   "id": "0b212970",
   "metadata": {},
   "outputs": [],
   "source": []
  },
  {
   "cell_type": "markdown",
   "id": "d3ff5387",
   "metadata": {},
   "source": [
    "## Aggregating rows"
   ]
  },
  {
   "cell_type": "code",
   "execution_count": 8,
   "id": "8d16ed95",
   "metadata": {},
   "outputs": [
    {
     "data": {
      "text/html": [
       "<div>\n",
       "<style scoped>\n",
       "    .dataframe tbody tr th:only-of-type {\n",
       "        vertical-align: middle;\n",
       "    }\n",
       "\n",
       "    .dataframe tbody tr th {\n",
       "        vertical-align: top;\n",
       "    }\n",
       "\n",
       "    .dataframe thead th {\n",
       "        text-align: right;\n",
       "    }\n",
       "</style>\n",
       "<table border=\"1\" class=\"dataframe\">\n",
       "  <thead>\n",
       "    <tr style=\"text-align: right;\">\n",
       "      <th></th>\n",
       "      <th>Year</th>\n",
       "      <th>State Abbreviation</th>\n",
       "      <th>State FIPS Code</th>\n",
       "      <th>County FIPS Code</th>\n",
       "      <th>Sex</th>\n",
       "      <th>Total_Population</th>\n",
       "    </tr>\n",
       "  </thead>\n",
       "  <tbody>\n",
       "    <tr>\n",
       "      <th>0</th>\n",
       "      <td>1990</td>\n",
       "      <td>AK</td>\n",
       "      <td>2</td>\n",
       "      <td>10</td>\n",
       "      <td>1</td>\n",
       "      <td>7943</td>\n",
       "    </tr>\n",
       "    <tr>\n",
       "      <th>1</th>\n",
       "      <td>1990</td>\n",
       "      <td>AK</td>\n",
       "      <td>2</td>\n",
       "      <td>10</td>\n",
       "      <td>2</td>\n",
       "      <td>4133</td>\n",
       "    </tr>\n",
       "    <tr>\n",
       "      <th>2</th>\n",
       "      <td>1990</td>\n",
       "      <td>AK</td>\n",
       "      <td>2</td>\n",
       "      <td>20</td>\n",
       "      <td>1</td>\n",
       "      <td>117036</td>\n",
       "    </tr>\n",
       "    <tr>\n",
       "      <th>3</th>\n",
       "      <td>1990</td>\n",
       "      <td>AK</td>\n",
       "      <td>2</td>\n",
       "      <td>20</td>\n",
       "      <td>2</td>\n",
       "      <td>110578</td>\n",
       "    </tr>\n",
       "    <tr>\n",
       "      <th>4</th>\n",
       "      <td>1990</td>\n",
       "      <td>AK</td>\n",
       "      <td>2</td>\n",
       "      <td>50</td>\n",
       "      <td>1</td>\n",
       "      <td>7170</td>\n",
       "    </tr>\n",
       "  </tbody>\n",
       "</table>\n",
       "</div>"
      ],
      "text/plain": [
       "   Year State Abbreviation  State FIPS Code  County FIPS Code  Sex  \\\n",
       "0  1990                 AK                2                10    1   \n",
       "1  1990                 AK                2                10    2   \n",
       "2  1990                 AK                2                20    1   \n",
       "3  1990                 AK                2                20    2   \n",
       "4  1990                 AK                2                50    1   \n",
       "\n",
       "   Total_Population  \n",
       "0              7943  \n",
       "1              4133  \n",
       "2            117036  \n",
       "3            110578  \n",
       "4              7170  "
      ]
     },
     "execution_count": 8,
     "metadata": {},
     "output_type": "execute_result"
    }
   ],
   "source": [
    "# Load the dataset to perform aggregation\n",
    "dataset_by_sex = pd.read_csv('dataset_by_sex.csv')\n",
    "\n",
    "# Group by specified columns and sum the population\n",
    "aggregated_data = dataset_by_sex.groupby(['Year', 'State Abbreviation', 'State FIPS Code', 'County FIPS Code', 'Sex']).agg(\n",
    "    Total_Population=pd.NamedAgg(column='Population', aggfunc='sum')\n",
    ").reset_index()\n",
    "\n",
    "# Display the aggregated dataset\n",
    "aggregated_data.head()"
   ]
  },
  {
   "cell_type": "code",
   "execution_count": 9,
   "id": "be8c1fd0",
   "metadata": {},
   "outputs": [
    {
     "data": {
      "text/plain": [
       "'aggregated_dataset_by_sex.csv'"
      ]
     },
     "execution_count": 9,
     "metadata": {},
     "output_type": "execute_result"
    }
   ],
   "source": [
    "# Save the aggregated dataset as a CSV file\n",
    "aggregated_csv_path = 'aggregated_dataset_by_sex.csv'\n",
    "aggregated_data.to_csv(aggregated_csv_path, index=False)\n",
    "\n",
    "# Provide the path to the saved file\n",
    "aggregated_csv_path"
   ]
  },
  {
   "cell_type": "code",
   "execution_count": null,
   "id": "452cbbc8",
   "metadata": {},
   "outputs": [],
   "source": []
  },
  {
   "cell_type": "code",
   "execution_count": 10,
   "id": "1809ae79",
   "metadata": {},
   "outputs": [
    {
     "data": {
      "text/html": [
       "<div>\n",
       "<style scoped>\n",
       "    .dataframe tbody tr th:only-of-type {\n",
       "        vertical-align: middle;\n",
       "    }\n",
       "\n",
       "    .dataframe tbody tr th {\n",
       "        vertical-align: top;\n",
       "    }\n",
       "\n",
       "    .dataframe thead th {\n",
       "        text-align: right;\n",
       "    }\n",
       "</style>\n",
       "<table border=\"1\" class=\"dataframe\">\n",
       "  <thead>\n",
       "    <tr style=\"text-align: right;\">\n",
       "      <th></th>\n",
       "      <th>Year</th>\n",
       "      <th>State Abbreviation</th>\n",
       "      <th>State FIPS Code</th>\n",
       "      <th>County FIPS Code</th>\n",
       "      <th>Age</th>\n",
       "      <th>Total_Population</th>\n",
       "    </tr>\n",
       "  </thead>\n",
       "  <tbody>\n",
       "    <tr>\n",
       "      <th>0</th>\n",
       "      <td>1990</td>\n",
       "      <td>AK</td>\n",
       "      <td>2</td>\n",
       "      <td>10</td>\n",
       "      <td>0</td>\n",
       "      <td>211</td>\n",
       "    </tr>\n",
       "    <tr>\n",
       "      <th>1</th>\n",
       "      <td>1990</td>\n",
       "      <td>AK</td>\n",
       "      <td>2</td>\n",
       "      <td>10</td>\n",
       "      <td>1</td>\n",
       "      <td>739</td>\n",
       "    </tr>\n",
       "    <tr>\n",
       "      <th>2</th>\n",
       "      <td>1990</td>\n",
       "      <td>AK</td>\n",
       "      <td>2</td>\n",
       "      <td>10</td>\n",
       "      <td>2</td>\n",
       "      <td>727</td>\n",
       "    </tr>\n",
       "    <tr>\n",
       "      <th>3</th>\n",
       "      <td>1990</td>\n",
       "      <td>AK</td>\n",
       "      <td>2</td>\n",
       "      <td>10</td>\n",
       "      <td>3</td>\n",
       "      <td>515</td>\n",
       "    </tr>\n",
       "    <tr>\n",
       "      <th>4</th>\n",
       "      <td>1990</td>\n",
       "      <td>AK</td>\n",
       "      <td>2</td>\n",
       "      <td>10</td>\n",
       "      <td>4</td>\n",
       "      <td>749</td>\n",
       "    </tr>\n",
       "  </tbody>\n",
       "</table>\n",
       "</div>"
      ],
      "text/plain": [
       "   Year State Abbreviation  State FIPS Code  County FIPS Code  Age  \\\n",
       "0  1990                 AK                2                10    0   \n",
       "1  1990                 AK                2                10    1   \n",
       "2  1990                 AK                2                10    2   \n",
       "3  1990                 AK                2                10    3   \n",
       "4  1990                 AK                2                10    4   \n",
       "\n",
       "   Total_Population  \n",
       "0               211  \n",
       "1               739  \n",
       "2               727  \n",
       "3               515  \n",
       "4               749  "
      ]
     },
     "execution_count": 10,
     "metadata": {},
     "output_type": "execute_result"
    }
   ],
   "source": [
    "# Load the dataset to perform aggregation on Age\n",
    "dataset_by_age = pd.read_csv('dataset_by_age.csv')\n",
    "\n",
    "# Group by specified columns and sum the population\n",
    "aggregated_data_by_age = dataset_by_age.groupby(['Year', 'State Abbreviation', 'State FIPS Code', 'County FIPS Code', 'Age']).agg(\n",
    "    Total_Population=pd.NamedAgg(column='Population', aggfunc='sum')\n",
    ").reset_index()\n",
    "\n",
    "# Display the aggregated dataset\n",
    "aggregated_data_by_age.head()"
   ]
  },
  {
   "cell_type": "code",
   "execution_count": 11,
   "id": "e7969f98",
   "metadata": {},
   "outputs": [
    {
     "data": {
      "text/plain": [
       "'aggregated_dataset_by_age.csv'"
      ]
     },
     "execution_count": 11,
     "metadata": {},
     "output_type": "execute_result"
    }
   ],
   "source": [
    "# Save the aggregated dataset by Age as a CSV file\n",
    "aggregated_by_age_csv_path = 'aggregated_dataset_by_age.csv'\n",
    "aggregated_data_by_age.to_csv(aggregated_by_age_csv_path, index=False)\n",
    "\n",
    "# Provide the path to the saved file\n",
    "aggregated_by_age_csv_path"
   ]
  },
  {
   "cell_type": "code",
   "execution_count": null,
   "id": "d5c06265",
   "metadata": {},
   "outputs": [],
   "source": []
  }
 ],
 "metadata": {
  "kernelspec": {
   "display_name": "Python 3 (ipykernel)",
   "language": "python",
   "name": "python3"
  },
  "language_info": {
   "codemirror_mode": {
    "name": "ipython",
    "version": 3
   },
   "file_extension": ".py",
   "mimetype": "text/x-python",
   "name": "python",
   "nbconvert_exporter": "python",
   "pygments_lexer": "ipython3",
   "version": "3.11.5"
  }
 },
 "nbformat": 4,
 "nbformat_minor": 5
}
