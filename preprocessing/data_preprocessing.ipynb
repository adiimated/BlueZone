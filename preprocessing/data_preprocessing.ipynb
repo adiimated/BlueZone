{
 "cells": [
  {
   "cell_type": "markdown",
   "id": "edee7da2",
   "metadata": {},
   "source": [
    "# Data Preprocessing"
   ]
  },
  {
   "cell_type": "markdown",
   "id": "5b8aeff5",
   "metadata": {},
   "source": [
    "## Converting from txt to csv and adding column names"
   ]
  },
  {
   "cell_type": "code",
   "execution_count": 27,
   "id": "4229c954",
   "metadata": {},
   "outputs": [],
   "source": [
    "import pandas as pd"
   ]
  },
  {
   "cell_type": "code",
   "execution_count": 28,
   "id": "e36c9b81",
   "metadata": {},
   "outputs": [],
   "source": [
    "# Define the column specifications\n",
    "col_specs = [(0, 4), (4, 6), (6, 8), (8, 11), (11, 13), (13, 14), (14, 15), (15, 16), (16, 18), (18, 26)]\n",
    "col_names = [\n",
    "    'Year', 'State Abbreviation', 'State FIPS Code', 'County FIPS Code', \n",
    "    'Registry', 'Race', 'Origin', 'Sex', 'Age', 'Population'\n",
    "]"
   ]
  },
  {
   "cell_type": "code",
   "execution_count": 29,
   "id": "010778d6",
   "metadata": {},
   "outputs": [],
   "source": [
    "# Read the fixed-width file\n",
    "df = pd.read_fwf('demographic_data.txt', colspecs=col_specs, header=None, names=col_names)"
   ]
  },
  {
   "cell_type": "markdown",
   "id": "20f4a2ad",
   "metadata": {},
   "source": [
    "## Separating datasets by Age and Sex"
   ]
  },
  {
   "cell_type": "code",
   "execution_count": 31,
   "id": "7e7c48db",
   "metadata": {},
   "outputs": [
    {
     "data": {
      "text/plain": [
       "(   Year State Abbreviation  State FIPS Code  County FIPS Code  Registry  Race  \\\n",
       " 0  1990                 AL                1                 1        99     1   \n",
       " 1  1990                 AL                1                 1        99     1   \n",
       " 2  1990                 AL                1                 1        99     1   \n",
       " 3  1990                 AL                1                 1        99     1   \n",
       " 4  1990                 AL                1                 1        99     1   \n",
       " \n",
       "    Origin  Sex  Age  Population  \n",
       " 0       0    1    0         239  \n",
       " 1       0    1    1         821  \n",
       " 2       0    1    2        1089  \n",
       " 3       0    1    3        1144  \n",
       " 4       0    1    4        1046  ,\n",
       " Index(['Year', 'State Abbreviation', 'State FIPS Code', 'County FIPS Code',\n",
       "        'Registry', 'Race', 'Origin', 'Sex', 'Age', 'Population'],\n",
       "       dtype='object'))"
      ]
     },
     "execution_count": 31,
     "metadata": {},
     "output_type": "execute_result"
    }
   ],
   "source": [
    "data = df.copy()\n",
    "data.head(), data.columns"
   ]
  },
  {
   "cell_type": "code",
   "execution_count": 32,
   "id": "a4bfdbed",
   "metadata": {},
   "outputs": [],
   "source": [
    "dataset_by_sex = data[['Year', 'State Abbreviation', 'State FIPS Code', 'County FIPS Code', 'Sex', 'Population']]\n",
    "dataset_by_age = data[['Year', 'State Abbreviation', 'State FIPS Code', 'County FIPS Code', 'Age', 'Population']]"
   ]
  },
  {
   "cell_type": "code",
   "execution_count": null,
   "id": "0b212970",
   "metadata": {},
   "outputs": [],
   "source": []
  },
  {
   "cell_type": "markdown",
   "id": "d3ff5387",
   "metadata": {},
   "source": [
    "## Aggregating rows"
   ]
  },
  {
   "cell_type": "code",
   "execution_count": 33,
   "id": "8d16ed95",
   "metadata": {},
   "outputs": [
    {
     "data": {
      "text/html": [
       "<div>\n",
       "<style scoped>\n",
       "    .dataframe tbody tr th:only-of-type {\n",
       "        vertical-align: middle;\n",
       "    }\n",
       "\n",
       "    .dataframe tbody tr th {\n",
       "        vertical-align: top;\n",
       "    }\n",
       "\n",
       "    .dataframe thead th {\n",
       "        text-align: right;\n",
       "    }\n",
       "</style>\n",
       "<table border=\"1\" class=\"dataframe\">\n",
       "  <thead>\n",
       "    <tr style=\"text-align: right;\">\n",
       "      <th></th>\n",
       "      <th>Year</th>\n",
       "      <th>State Abbreviation</th>\n",
       "      <th>State FIPS Code</th>\n",
       "      <th>County FIPS Code</th>\n",
       "      <th>Sex</th>\n",
       "      <th>Total_Population</th>\n",
       "    </tr>\n",
       "  </thead>\n",
       "  <tbody>\n",
       "    <tr>\n",
       "      <th>0</th>\n",
       "      <td>1990</td>\n",
       "      <td>AK</td>\n",
       "      <td>2</td>\n",
       "      <td>10</td>\n",
       "      <td>1</td>\n",
       "      <td>7943</td>\n",
       "    </tr>\n",
       "    <tr>\n",
       "      <th>1</th>\n",
       "      <td>1990</td>\n",
       "      <td>AK</td>\n",
       "      <td>2</td>\n",
       "      <td>10</td>\n",
       "      <td>2</td>\n",
       "      <td>4133</td>\n",
       "    </tr>\n",
       "    <tr>\n",
       "      <th>2</th>\n",
       "      <td>1990</td>\n",
       "      <td>AK</td>\n",
       "      <td>2</td>\n",
       "      <td>20</td>\n",
       "      <td>1</td>\n",
       "      <td>117036</td>\n",
       "    </tr>\n",
       "    <tr>\n",
       "      <th>3</th>\n",
       "      <td>1990</td>\n",
       "      <td>AK</td>\n",
       "      <td>2</td>\n",
       "      <td>20</td>\n",
       "      <td>2</td>\n",
       "      <td>110578</td>\n",
       "    </tr>\n",
       "    <tr>\n",
       "      <th>4</th>\n",
       "      <td>1990</td>\n",
       "      <td>AK</td>\n",
       "      <td>2</td>\n",
       "      <td>50</td>\n",
       "      <td>1</td>\n",
       "      <td>7170</td>\n",
       "    </tr>\n",
       "  </tbody>\n",
       "</table>\n",
       "</div>"
      ],
      "text/plain": [
       "   Year State Abbreviation  State FIPS Code  County FIPS Code  Sex  \\\n",
       "0  1990                 AK                2                10    1   \n",
       "1  1990                 AK                2                10    2   \n",
       "2  1990                 AK                2                20    1   \n",
       "3  1990                 AK                2                20    2   \n",
       "4  1990                 AK                2                50    1   \n",
       "\n",
       "   Total_Population  \n",
       "0              7943  \n",
       "1              4133  \n",
       "2            117036  \n",
       "3            110578  \n",
       "4              7170  "
      ]
     },
     "execution_count": 33,
     "metadata": {},
     "output_type": "execute_result"
    }
   ],
   "source": [
    "# Group by specified columns and sum the population\n",
    "aggregated_data = dataset_by_sex.groupby(['Year', 'State Abbreviation', 'State FIPS Code', 'County FIPS Code', 'Sex']).agg(\n",
    "    Total_Population=pd.NamedAgg(column='Population', aggfunc='sum')\n",
    ").reset_index()\n",
    "\n",
    "# Display the aggregated dataset\n",
    "aggregated_data.head()"
   ]
  },
  {
   "cell_type": "code",
   "execution_count": 34,
   "id": "be8c1fd0",
   "metadata": {},
   "outputs": [
    {
     "data": {
      "text/plain": [
       "'aggregated_dataset_by_sex.csv'"
      ]
     },
     "execution_count": 34,
     "metadata": {},
     "output_type": "execute_result"
    }
   ],
   "source": [
    "# Save the aggregated dataset as a CSV file\n",
    "aggregated_csv_path = 'aggregated_dataset_by_sex.csv'\n",
    "aggregated_data.to_csv(aggregated_csv_path, index=False)\n",
    "\n",
    "# Provide the path to the saved file\n",
    "aggregated_csv_path"
   ]
  },
  {
   "cell_type": "code",
   "execution_count": null,
   "id": "452cbbc8",
   "metadata": {},
   "outputs": [],
   "source": []
  },
  {
   "cell_type": "code",
   "execution_count": 35,
   "id": "1809ae79",
   "metadata": {},
   "outputs": [
    {
     "data": {
      "text/html": [
       "<div>\n",
       "<style scoped>\n",
       "    .dataframe tbody tr th:only-of-type {\n",
       "        vertical-align: middle;\n",
       "    }\n",
       "\n",
       "    .dataframe tbody tr th {\n",
       "        vertical-align: top;\n",
       "    }\n",
       "\n",
       "    .dataframe thead th {\n",
       "        text-align: right;\n",
       "    }\n",
       "</style>\n",
       "<table border=\"1\" class=\"dataframe\">\n",
       "  <thead>\n",
       "    <tr style=\"text-align: right;\">\n",
       "      <th></th>\n",
       "      <th>Year</th>\n",
       "      <th>State Abbreviation</th>\n",
       "      <th>State FIPS Code</th>\n",
       "      <th>County FIPS Code</th>\n",
       "      <th>Age</th>\n",
       "      <th>Total_Population</th>\n",
       "    </tr>\n",
       "  </thead>\n",
       "  <tbody>\n",
       "    <tr>\n",
       "      <th>0</th>\n",
       "      <td>1990</td>\n",
       "      <td>AK</td>\n",
       "      <td>2</td>\n",
       "      <td>10</td>\n",
       "      <td>0</td>\n",
       "      <td>211</td>\n",
       "    </tr>\n",
       "    <tr>\n",
       "      <th>1</th>\n",
       "      <td>1990</td>\n",
       "      <td>AK</td>\n",
       "      <td>2</td>\n",
       "      <td>10</td>\n",
       "      <td>1</td>\n",
       "      <td>739</td>\n",
       "    </tr>\n",
       "    <tr>\n",
       "      <th>2</th>\n",
       "      <td>1990</td>\n",
       "      <td>AK</td>\n",
       "      <td>2</td>\n",
       "      <td>10</td>\n",
       "      <td>2</td>\n",
       "      <td>727</td>\n",
       "    </tr>\n",
       "    <tr>\n",
       "      <th>3</th>\n",
       "      <td>1990</td>\n",
       "      <td>AK</td>\n",
       "      <td>2</td>\n",
       "      <td>10</td>\n",
       "      <td>3</td>\n",
       "      <td>515</td>\n",
       "    </tr>\n",
       "    <tr>\n",
       "      <th>4</th>\n",
       "      <td>1990</td>\n",
       "      <td>AK</td>\n",
       "      <td>2</td>\n",
       "      <td>10</td>\n",
       "      <td>4</td>\n",
       "      <td>749</td>\n",
       "    </tr>\n",
       "  </tbody>\n",
       "</table>\n",
       "</div>"
      ],
      "text/plain": [
       "   Year State Abbreviation  State FIPS Code  County FIPS Code  Age  \\\n",
       "0  1990                 AK                2                10    0   \n",
       "1  1990                 AK                2                10    1   \n",
       "2  1990                 AK                2                10    2   \n",
       "3  1990                 AK                2                10    3   \n",
       "4  1990                 AK                2                10    4   \n",
       "\n",
       "   Total_Population  \n",
       "0               211  \n",
       "1               739  \n",
       "2               727  \n",
       "3               515  \n",
       "4               749  "
      ]
     },
     "execution_count": 35,
     "metadata": {},
     "output_type": "execute_result"
    }
   ],
   "source": [
    "# Group by specified columns and sum the population\n",
    "aggregated_data_by_age = dataset_by_age.groupby(['Year', 'State Abbreviation', 'State FIPS Code', 'County FIPS Code', 'Age']).agg(\n",
    "    Total_Population=pd.NamedAgg(column='Population', aggfunc='sum')\n",
    ").reset_index()\n",
    "\n",
    "# Display the aggregated dataset\n",
    "aggregated_data_by_age.head()"
   ]
  },
  {
   "cell_type": "code",
   "execution_count": 36,
   "id": "e7969f98",
   "metadata": {},
   "outputs": [
    {
     "data": {
      "text/plain": [
       "'aggregated_dataset_by_age.csv'"
      ]
     },
     "execution_count": 36,
     "metadata": {},
     "output_type": "execute_result"
    }
   ],
   "source": [
    "# Save the aggregated dataset by Age as a CSV file\n",
    "aggregated_by_age_csv_path = 'aggregated_dataset_by_age.csv'\n",
    "aggregated_data_by_age.to_csv(aggregated_by_age_csv_path, index=False)\n",
    "\n",
    "# Provide the path to the saved file\n",
    "aggregated_by_age_csv_path"
   ]
  },
  {
   "cell_type": "code",
   "execution_count": null,
   "id": "f79e6ef0",
   "metadata": {},
   "outputs": [],
   "source": []
  },
  {
   "cell_type": "markdown",
   "id": "bfef49ca",
   "metadata": {},
   "source": [
    "## Creating New Features - Percentage and Reducing Redunduncy"
   ]
  },
  {
   "cell_type": "markdown",
   "id": "4fac4304",
   "metadata": {},
   "source": [
    "## 1. Sex"
   ]
  },
  {
   "cell_type": "code",
   "execution_count": 37,
   "id": "38e0a7a2",
   "metadata": {
    "scrolled": false
   },
   "outputs": [
    {
     "name": "stdout",
     "output_type": "stream",
     "text": [
      "Year                   int64\n",
      "State Abbreviation    object\n",
      "State FIPS Code        int64\n",
      "County FIPS Code       int64\n",
      "Sex                    int64\n",
      "Total_Population       int64\n",
      "dtype: object\n"
     ]
    }
   ],
   "source": [
    "import pandas as pd\n",
    "df = pd.read_csv('aggregated_dataset_by_sex.csv')\n",
    "print(df.dtypes)"
   ]
  },
  {
   "cell_type": "code",
   "execution_count": 38,
   "id": "9bd629f0",
   "metadata": {},
   "outputs": [],
   "source": [
    "df['Sex'] = df['Sex'].map({1: 'Male', 2: 'Female'})\n",
    "df_pivot = df.pivot_table(index=['Year', 'State Abbreviation', 'State FIPS Code', 'County FIPS Code'], \n",
    "                          columns='Sex', \n",
    "                          values='Total_Population', \n",
    "                          aggfunc='sum').reset_index()\n",
    "\n",
    "df_pivot['Total_Population'] = df_pivot['Female'] + df_pivot['Male']"
   ]
  },
  {
   "cell_type": "code",
   "execution_count": 39,
   "id": "6c0a621e",
   "metadata": {},
   "outputs": [
    {
     "name": "stdout",
     "output_type": "stream",
     "text": [
      "   year state_abbr  state_fips  county_fips  female_pop  male_pop  \\\n",
      "0  1990         AK           2           10        4133      7943   \n",
      "1  1990         AK           2           20      110578    117036   \n",
      "2  1990         AK           2           50        6547      7170   \n",
      "3  1990         AK           2           60         559       829   \n",
      "4  1990         AK           2           68         712      1013   \n",
      "\n",
      "   total_population  percentage_male  percentage_female  \n",
      "0             12076            65.78              34.22  \n",
      "1            227614            51.42              48.58  \n",
      "2             13717            52.27              47.73  \n",
      "3              1388            59.73              40.27  \n",
      "4              1725            58.72              41.28  \n"
     ]
    }
   ],
   "source": [
    "df_pivot['percentage_male'] = (df_pivot['Male'] / df_pivot['Total_Population'] * 100).round(2)\n",
    "df_pivot['percentage_female'] = (df_pivot['Female'] / df_pivot['Total_Population'] * 100).round(2)\n",
    "\n",
    "df_pivot.columns = ['year', 'state_abbr', 'state_fips', 'county_fips', 'female_pop', 'male_pop', 'total_population', 'percentage_male', 'percentage_female']\n",
    "df_pivot.to_csv('demographic_data_sex.csv', index=False)\n",
    "\n",
    "print(df_pivot.head())"
   ]
  },
  {
   "cell_type": "markdown",
   "id": "cb5f90e3",
   "metadata": {},
   "source": [
    "## 2. Age"
   ]
  },
  {
   "cell_type": "code",
   "execution_count": 40,
   "id": "0f598a55",
   "metadata": {},
   "outputs": [],
   "source": [
    "import pandas as pd\n",
    "\n",
    "# Load your data\n",
    "df = pd.read_csv('aggregated_dataset_by_age.csv')\n",
    "\n",
    "# Define age category ranges\n",
    "age_categories = {\n",
    "    \"under_18_pop\": range(0, 4),\n",
    "    \"18_44_pop\": range(4, 10),\n",
    "    \"45_64_pop\": range(10, 14),\n",
    "    \"above_65_pop\": range(14, 19)\n",
    "}"
   ]
  },
  {
   "cell_type": "code",
   "execution_count": 41,
   "id": "ed9eb83e",
   "metadata": {},
   "outputs": [],
   "source": [
    "# Initialize columns for population sums\n",
    "for category in age_categories:\n",
    "    df[category] = 0\n",
    "\n",
    "# Sum populations within each age range for each row in the dataframe\n",
    "for index, row in df.iterrows():\n",
    "    for category, age_range in age_categories.items():\n",
    "        if row['Age'] in age_range:\n",
    "            df.loc[index, category] += row['Total_Population']\n",
    "\n",
    "# Drop the 'Age' and 'Total_Population' columns as they are no longer needed\n",
    "df.drop(['Age', 'Total_Population'], axis=1, inplace=True)\n",
    "\n",
    "# Remove duplicates after aggregation, to prevent repeating sums\n",
    "df = df.drop_duplicates()"
   ]
  },
  {
   "cell_type": "code",
   "execution_count": 42,
   "id": "93851040",
   "metadata": {},
   "outputs": [],
   "source": [
    "grouped = df.groupby(['Year', 'State Abbreviation', 'State FIPS Code', 'County FIPS Code']).sum().reset_index()\n",
    "\n",
    "grouped.rename(columns={\n",
    "    \"Year\": \"year\",\n",
    "    \"State Abbreviation\": \"state_abbr\",\n",
    "    \"State FIPS Code\": \"state_fips\",\n",
    "    \"County FIPS Code\": \"county_fips\"\n",
    "}, inplace=True)\n",
    "\n",
    "grouped['total_population'] = grouped[['under_18_pop', '18_44_pop', '45_64_pop', 'above_65_pop']].sum(axis=1)\n",
    "for category in age_categories.keys():\n",
    "    grouped[f'percentage_{category}'] = (grouped[category] / grouped['total_population'] * 100).round(2)"
   ]
  },
  {
   "cell_type": "code",
   "execution_count": 43,
   "id": "d15c2190",
   "metadata": {},
   "outputs": [
    {
     "name": "stdout",
     "output_type": "stream",
     "text": [
      "   year state_abbr  state_fips  county_fips  under_18_pop  18_44_pop  \\\n",
      "0  1990         AK           2           10          2192       8556   \n",
      "1  1990         AK           2           20         59704     124598   \n",
      "2  1990         AK           2           50          4732       6524   \n",
      "3  1990         AK           2           60           337        819   \n",
      "4  1990         AK           2           68           418        908   \n",
      "\n",
      "   45_64_pop  above_65_pop  total_population  percentage_under_18_pop  \\\n",
      "0       1201           127             12076                    18.15   \n",
      "1      34972          8340            227614                    26.23   \n",
      "2       1824           637             13717                    34.50   \n",
      "3        199            33              1388                    24.28   \n",
      "4        339            60              1725                    24.23   \n",
      "\n",
      "   percentage_18_44_pop  percentage_45_64_pop  percentage_above_65_pop  \n",
      "0                 70.85                  9.95                     1.05  \n",
      "1                 54.74                 15.36                     3.66  \n",
      "2                 47.56                 13.30                     4.64  \n",
      "3                 59.01                 14.34                     2.38  \n",
      "4                 52.64                 19.65                     3.48  \n"
     ]
    }
   ],
   "source": [
    "grouped.to_csv('demographic_data_age.csv', index=False)\n",
    "\n",
    "print(grouped.head())"
   ]
  },
  {
   "cell_type": "code",
   "execution_count": null,
   "id": "4532ffcf",
   "metadata": {},
   "outputs": [],
   "source": []
  }
 ],
 "metadata": {
  "kernelspec": {
   "display_name": "Python 3 (ipykernel)",
   "language": "python",
   "name": "python3"
  },
  "language_info": {
   "codemirror_mode": {
    "name": "ipython",
    "version": 3
   },
   "file_extension": ".py",
   "mimetype": "text/x-python",
   "name": "python",
   "nbconvert_exporter": "python",
   "pygments_lexer": "ipython3",
   "version": "3.11.5"
  }
 },
 "nbformat": 4,
 "nbformat_minor": 5
}
