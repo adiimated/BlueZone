{
 "cells": [
  {
   "cell_type": "markdown",
   "id": "67c1ccb1",
   "metadata": {},
   "source": [
    "# Demographic Data : Preprocessing"
   ]
  },
  {
   "cell_type": "code",
   "execution_count": 8,
   "id": "eed272d0",
   "metadata": {},
   "outputs": [],
   "source": [
    "import csv\n",
    "import pandas as p\n",
    "\n",
    "input_file_path = 'demographic_data.txt'\n",
    "output_file_path = 'demographic_data.csv'"
   ]
  },
  {
   "cell_type": "code",
   "execution_count": 9,
   "id": "9c38b3c9",
   "metadata": {},
   "outputs": [],
   "source": [
    "data = []\n",
    "\n",
    "with open(input_file_path, 'r') as file:\n",
    "    for line in file:\n",
    "        year = int(line[0:4])\n",
    "        state_abbr = line[4:6].strip()\n",
    "        state_fips = line[6:8].strip()  # Retain as string, leading zeroes are meaningful\n",
    "        county_fips = line[8:11].strip()  # Retain as string, leading zeroes are meaningful\n",
    "        registry = int(line[11:13])  # Assuming leading zeroes aren't meaningful\n",
    "        race = int(line[13:14])  # Convert race to int\n",
    "        origin = int(line[14:15])  # Convert origin to int\n",
    "        sex = int(line[15:16])  # Convert sex to int\n",
    "        age = int(line[16:18])  # Age should be integer, leading zeroes not needed\n",
    "        population = int(line[18:26])  # Convert population, strip leading zeroes\n",
    "\n",
    "        data.append([year, state_abbr, state_fips, county_fips, registry, race, origin, sex, age, population])"
   ]
  },
  {
   "cell_type": "code",
   "execution_count": 10,
   "id": "193fa21a",
   "metadata": {},
   "outputs": [],
   "source": [
    "df = pd.DataFrame(data, columns=[\n",
    "    'Year', 'State_Abbr', 'State_FIPS', 'County_FIPS', 'Registry',\n",
    "    'Race', 'Origin', 'Sex', 'Age', 'Population'\n",
    "])"
   ]
  },
  {
   "cell_type": "code",
   "execution_count": 11,
   "id": "60e162a6",
   "metadata": {},
   "outputs": [
    {
     "name": "stdout",
     "output_type": "stream",
     "text": [
      "Data has been cleaned and saved to demographic_data.csv\n"
     ]
    }
   ],
   "source": [
    "df.to_csv(output_file_path, index=False)\n",
    "\n",
    "print(\"Data has been cleaned and saved to\", output_file_path)"
   ]
  },
  {
   "cell_type": "code",
   "execution_count": null,
   "id": "39054f16",
   "metadata": {},
   "outputs": [],
   "source": []
  }
 ],
 "metadata": {
  "kernelspec": {
   "display_name": "Python 3 (ipykernel)",
   "language": "python",
   "name": "python3"
  },
  "language_info": {
   "codemirror_mode": {
    "name": "ipython",
    "version": 3
   },
   "file_extension": ".py",
   "mimetype": "text/x-python",
   "name": "python",
   "nbconvert_exporter": "python",
   "pygments_lexer": "ipython3",
   "version": "3.11.5"
  }
 },
 "nbformat": 4,
 "nbformat_minor": 5
}
